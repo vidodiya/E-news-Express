{
 "cells": [
  {
   "cell_type": "markdown",
   "id": "6yDxo9u0d9Na",
   "metadata": {
    "id": "6yDxo9u0d9Na"
   },
   "source": [
    "# Project Business Statistics: E-news Express\n"
   ]
  },
  {
   "cell_type": "markdown",
   "id": "SrLd-ICEmPSD",
   "metadata": {
    "id": "SrLd-ICEmPSD"
   },
   "source": [
    "## Define Problem Statement and Objectives"
   ]
  },
  {
   "cell_type": "markdown",
   "id": "a6a3d218",
   "metadata": {
    "id": "a6a3d218"
   },
   "source": [
    "## Import all the necessary libraries"
   ]
  },
  {
   "cell_type": "code",
   "execution_count": 1,
   "id": "r_5zUIePGS-1",
   "metadata": {
    "id": "r_5zUIePGS-1"
   },
   "outputs": [
    {
     "name": "stderr",
     "output_type": "stream",
     "text": [
      "ERROR: pip's dependency resolver does not currently take into account all the packages that are installed. This behaviour is the source of the following dependency conflicts.\n",
      "gensim 4.3.0 requires FuzzyTM>=0.4.0, which is not installed.\n"
     ]
    }
   ],
   "source": [
    "# Installing the libraries with the specified version.\n",
    "!pip install numpy==1.25.2 pandas==1.5.3 matplotlib==3.7.1 seaborn==0.13.1 scipy==1.11.4 -q --user"
   ]
  },
  {
   "cell_type": "markdown",
   "id": "DAaycw-QP-j9",
   "metadata": {
    "id": "DAaycw-QP-j9"
   },
   "source": [
    "**Note**: *After running the above cell, kindly restart the notebook kernel and run all cells sequentially from the start again.*"
   ]
  },
  {
   "cell_type": "code",
   "execution_count": null,
   "id": "658c5dec",
   "metadata": {
    "id": "658c5dec"
   },
   "outputs": [],
   "source": []
  },
  {
   "cell_type": "markdown",
   "id": "6970dd99",
   "metadata": {
    "id": "6970dd99"
   },
   "source": [
    "## Reading the Data into a DataFrame"
   ]
  },
  {
   "cell_type": "code",
   "execution_count": null,
   "id": "d3b95640",
   "metadata": {
    "id": "d3b95640"
   },
   "outputs": [],
   "source": []
  },
  {
   "cell_type": "markdown",
   "id": "9d75cfa2",
   "metadata": {
    "id": "9d75cfa2"
   },
   "source": [
    "## Explore the dataset and extract insights using Exploratory Data Analysis"
   ]
  },
  {
   "cell_type": "markdown",
   "id": "27201534",
   "metadata": {
    "id": "27201534"
   },
   "source": [
    "- Data Overview\n",
    "  - Viewing the first and last few rows of the dataset\n",
    "  - Checking the shape of the dataset\n",
    "  - Getting the statistical summary for the variables\n",
    "- Check for missing values\n",
    "- Check for duplicates"
   ]
  },
  {
   "cell_type": "code",
   "execution_count": null,
   "id": "e1ad11d4",
   "metadata": {
    "id": "e1ad11d4"
   },
   "outputs": [],
   "source": []
  },
  {
   "cell_type": "markdown",
   "id": "68f3b2c9",
   "metadata": {
    "id": "68f3b2c9"
   },
   "source": [
    "### Univariate Analysis"
   ]
  },
  {
   "cell_type": "code",
   "execution_count": null,
   "id": "1932d0f3",
   "metadata": {
    "id": "1932d0f3"
   },
   "outputs": [],
   "source": []
  },
  {
   "cell_type": "markdown",
   "id": "fad2de2f",
   "metadata": {
    "id": "fad2de2f"
   },
   "source": [
    "### Bivariate Analysis"
   ]
  },
  {
   "cell_type": "code",
   "execution_count": null,
   "id": "58e9a1d0",
   "metadata": {
    "id": "58e9a1d0"
   },
   "outputs": [],
   "source": []
  },
  {
   "cell_type": "markdown",
   "id": "27906576",
   "metadata": {
    "id": "27906576"
   },
   "source": [
    "## 1. Do the users spend more time on the new landing page than the existing landing page?"
   ]
  },
  {
   "cell_type": "markdown",
   "id": "e5fdf0c8",
   "metadata": {
    "id": "e5fdf0c8"
   },
   "source": [
    "### Perform Visual Analysis"
   ]
  },
  {
   "cell_type": "code",
   "execution_count": null,
   "id": "6eZJa41eg21n",
   "metadata": {
    "id": "6eZJa41eg21n"
   },
   "outputs": [],
   "source": []
  },
  {
   "cell_type": "markdown",
   "id": "56b3dafd",
   "metadata": {
    "id": "56b3dafd"
   },
   "source": [
    "### Step 1: Define the null and alternate hypotheses"
   ]
  },
  {
   "cell_type": "markdown",
   "id": "d2ac77ef",
   "metadata": {
    "id": "d2ac77ef"
   },
   "source": []
  },
  {
   "cell_type": "markdown",
   "id": "c7ee4907",
   "metadata": {
    "id": "c7ee4907"
   },
   "source": [
    "### Step 2: Select Appropriate test"
   ]
  },
  {
   "cell_type": "markdown",
   "id": "2c183cd7",
   "metadata": {
    "id": "2c183cd7"
   },
   "source": []
  },
  {
   "cell_type": "markdown",
   "id": "3f58c9a7",
   "metadata": {
    "id": "3f58c9a7"
   },
   "source": [
    "### Step 3: Decide the significance level"
   ]
  },
  {
   "cell_type": "markdown",
   "id": "92d7d7ee",
   "metadata": {
    "id": "92d7d7ee"
   },
   "source": []
  },
  {
   "cell_type": "markdown",
   "id": "5fed2eac",
   "metadata": {
    "id": "5fed2eac"
   },
   "source": [
    "### Step 4: Collect and prepare data"
   ]
  },
  {
   "cell_type": "code",
   "execution_count": null,
   "id": "f5a59495",
   "metadata": {
    "id": "f5a59495"
   },
   "outputs": [],
   "source": []
  },
  {
   "cell_type": "markdown",
   "id": "f5c5258d",
   "metadata": {
    "id": "f5c5258d"
   },
   "source": [
    "### Step 5: Calculate the p-value"
   ]
  },
  {
   "cell_type": "code",
   "execution_count": null,
   "id": "fac8594a",
   "metadata": {
    "id": "fac8594a"
   },
   "outputs": [],
   "source": []
  },
  {
   "cell_type": "markdown",
   "id": "359b12f8",
   "metadata": {
    "id": "359b12f8"
   },
   "source": [
    "### Step 6: Compare the p-value with $\\alpha$"
   ]
  },
  {
   "cell_type": "code",
   "execution_count": null,
   "id": "7be47289",
   "metadata": {
    "id": "7be47289"
   },
   "outputs": [],
   "source": []
  },
  {
   "cell_type": "markdown",
   "id": "d9affc84",
   "metadata": {
    "id": "d9affc84"
   },
   "source": [
    "### Step 7:  Draw inference"
   ]
  },
  {
   "cell_type": "markdown",
   "id": "6b16dd4b",
   "metadata": {
    "id": "6b16dd4b"
   },
   "source": []
  },
  {
   "cell_type": "markdown",
   "id": "1ad0823a",
   "metadata": {
    "id": "1ad0823a"
   },
   "source": [
    "**A similar approach can be followed to answer the other questions.**"
   ]
  },
  {
   "cell_type": "markdown",
   "id": "353e9d24",
   "metadata": {
    "id": "353e9d24"
   },
   "source": [
    "## 2. Is the conversion rate (the proportion of users who visit the landing page and get converted) for the new page greater than the conversion rate for the old page?"
   ]
  },
  {
   "cell_type": "code",
   "execution_count": null,
   "id": "b7f52898",
   "metadata": {
    "id": "b7f52898"
   },
   "outputs": [],
   "source": []
  },
  {
   "cell_type": "markdown",
   "id": "d49bfa2d",
   "metadata": {
    "id": "d49bfa2d"
   },
   "source": [
    "## 3. Is the conversion and preferred language are independent or related?"
   ]
  },
  {
   "cell_type": "code",
   "execution_count": null,
   "id": "b0e63f17",
   "metadata": {
    "id": "b0e63f17"
   },
   "outputs": [],
   "source": []
  },
  {
   "cell_type": "markdown",
   "id": "8d585a90",
   "metadata": {
    "id": "8d585a90"
   },
   "source": [
    "## 4. Is the time spent on the new page same for the different language users?"
   ]
  },
  {
   "cell_type": "code",
   "execution_count": null,
   "id": "b422f395",
   "metadata": {
    "id": "b422f395"
   },
   "outputs": [],
   "source": []
  },
  {
   "cell_type": "markdown",
   "id": "3acbc947",
   "metadata": {
    "id": "3acbc947"
   },
   "source": [
    "## Conclusion and Business Recommendations"
   ]
  },
  {
   "cell_type": "markdown",
   "id": "21fb1063",
   "metadata": {
    "id": "21fb1063"
   },
   "source": []
  },
  {
   "cell_type": "markdown",
   "id": "U0dAd4i0iCHo",
   "metadata": {
    "id": "U0dAd4i0iCHo"
   },
   "source": [
    "___"
   ]
  }
 ],
 "metadata": {
  "colab": {
   "collapsed_sections": [
    "6970dd99",
    "9d75cfa2",
    "68f3b2c9",
    "fad2de2f",
    "27906576",
    "e5fdf0c8",
    "56b3dafd",
    "c7ee4907",
    "3f58c9a7",
    "5fed2eac",
    "f5c5258d",
    "359b12f8",
    "d9affc84",
    "353e9d24",
    "d49bfa2d",
    "8d585a90",
    "3acbc947"
   ],
   "provenance": []
  },
  "kernelspec": {
   "display_name": "Python 3 (ipykernel)",
   "language": "python",
   "name": "python3"
  },
  "language_info": {
   "codemirror_mode": {
    "name": "ipython",
    "version": 3
   },
   "file_extension": ".py",
   "mimetype": "text/x-python",
   "name": "python",
   "nbconvert_exporter": "python",
   "pygments_lexer": "ipython3",
   "version": "3.11.5"
  }
 },
 "nbformat": 4,
 "nbformat_minor": 5
}
